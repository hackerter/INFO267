{
 "cells": [
  {
   "cell_type": "markdown",
   "metadata": {},
   "source": [
    "# Actividad: Clasificación de SPAM\n",
    "\n",
    "¿Podemos clasificar un email como spam con árboles y/o ensambles?\n",
    "\n",
    "Usaremos la base de datos [UCI Spam database](https://archive.ics.uci.edu/ml/datasets/Spambase)\n",
    "\n",
    "Responda las preguntas y realice las actividades en cada uno de los bloques\n",
    "\n",
    "Entregas al correo phuijse@inf.uach.cl hasta el Viernes 13, 11:20 AM\n",
    "\n",
    "Se trabajará en grupos de dos personas: se entrega un notebook completo por grupo"
   ]
  },
  {
   "cell_type": "code",
   "execution_count": null,
   "metadata": {},
   "outputs": [],
   "source": [
    "# Descargar la base de datos con wget, si usas windows usa el link de arriba\n",
    "!wget -c https://archive.ics.uci.edu/ml/machine-learning-databases/spambase/spambase.data\n",
    "!head -n 5 spambase.data"
   ]
  },
  {
   "cell_type": "markdown",
   "metadata": {},
   "source": [
    "Responda \n",
    "- ¿Cuántos atributos tiene la base de datos? Describalos de forma muy breve\n",
    "-  Muestre un histograma de las etiquetas ¿Cuántos ejemplos hay de cada clase? ¿Es la base de datos balanceada?\n",
    "- ¿Hay valores perdidos o invalidas? "
   ]
  },
  {
   "cell_type": "code",
   "execution_count": null,
   "metadata": {},
   "outputs": [],
   "source": [
    "%matplotlib notebook\n",
    "import numpy as np \n",
    "import matplotlib.pyplot as plt\n",
    "from sklearn.model_selection import train_test_split\n",
    "\n",
    "data = np.genfromtxt('spambase.data', delimiter=',')\n",
    "X, Y = data[:, :-1], data[:, -1]\n",
    "\n",
    "X_train, X_test, Y_train, Y_test = train_test_split(X, Y, train_size=0.75, stratify=Y)"
   ]
  },
  {
   "cell_type": "markdown",
   "metadata": {},
   "source": [
    "Use el conjunto de entrenamiento para entrenar y ajustar los parámetros de un \n",
    "1. árbol de decisión\n",
    "1. ensamble random forest \n",
    "1. ensamble *gradient boosting*\n",
    "\n",
    "Puede usar `GridSearchCV` para encontrar los mejores estimadores\n",
    "\n",
    "Para este caso particular y para cada estimador responda\n",
    "- ¿Qué función/criterio funciona mejor? `criterion`\n",
    "- ¿Qué profundidad de árbol funciona mejor? `max_depth`\n",
    "- ¿Combiene ponderar las clases? `class_weight`\n",
    "- En el caso de los ensambles \n",
    "    - ¿Es recomendable usar un subconjunto aleatorio de características? `max_features`\n",
    "    - ¿Cuál es la mejor cantidad de clasificadores débiles? `n_estimators`\n",
    "\n",
    "Compare los mejores modelos de cada tipo en el conjunto de test usando métricas de clasificación apropiadas\n",
    "\n",
    "Analice y comente sus resultados"
   ]
  },
  {
   "cell_type": "code",
   "execution_count": null,
   "metadata": {},
   "outputs": [],
   "source": [
    "from sklearn import tree\n",
    "from sklearn.model_selection import GridSearchCV\n",
    "\n",
    "params = {'criterion':('entropy', 'gini'), 'max_depth':[5, 10, 20, 50]}\n",
    "model = tree.DecisionTreeClassifier()\n",
    "clf_dt = GridSearchCV(model, params, cv=5)\n",
    "clf_dt.fit(X_train, Y_train)\n",
    "display(clf_dt.best_estimator_)"
   ]
  },
  {
   "cell_type": "code",
   "execution_count": null,
   "metadata": {},
   "outputs": [],
   "source": [
    "from sklearn.metrics import precision_recall_curve\n",
    "\n",
    "fig, ax = plt.subplots(1, figsize=(5, 4), tight_layout=True)\n",
    "ax.set_xlabel('Recall/TPR')\n",
    "ax.set_ylabel('Precision')\n",
    "\n",
    "Y_pred = clf_dt.best_estimator_.predict_proba(X_test)[:, 1]\n",
    "precision, recall, th = precision_recall_curve(Y_test, Y_pred)\n",
    "ax.plot(recall, precision, label=\"Decision Tree\", linewidth=1)\n",
    "\n",
    "plt.legend(loc=3);"
   ]
  },
  {
   "cell_type": "code",
   "execution_count": null,
   "metadata": {},
   "outputs": [],
   "source": [
    "!rm spambase.data"
   ]
  },
  {
   "cell_type": "code",
   "execution_count": null,
   "metadata": {},
   "outputs": [],
   "source": []
  }
 ],
 "metadata": {
  "kernelspec": {
   "display_name": "Python 3",
   "language": "python",
   "name": "python3"
  },
  "language_info": {
   "codemirror_mode": {
    "name": "ipython",
    "version": 3
   },
   "file_extension": ".py",
   "mimetype": "text/x-python",
   "name": "python",
   "nbconvert_exporter": "python",
   "pygments_lexer": "ipython3",
   "version": "3.7.4"
  }
 },
 "nbformat": 4,
 "nbformat_minor": 2
}
